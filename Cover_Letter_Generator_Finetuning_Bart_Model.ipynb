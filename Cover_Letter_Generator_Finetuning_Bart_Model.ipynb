{
  "cells": [
    {
      "cell_type": "code",
      "source": [
        "!pip install sacrebleu\n",
        "!pip install rouge"
      ],
      "metadata": {
        "colab": {
          "base_uri": "https://localhost:8080/"
        },
        "id": "PVno-DUsv0aV",
        "outputId": "bbc0f259-9ee2-4dc9-f6bc-4bafd9ee0f98"
      },
      "execution_count": 1,
      "outputs": [
        {
          "output_type": "stream",
          "name": "stdout",
          "text": [
            "Requirement already satisfied: sacrebleu in /usr/local/lib/python3.10/dist-packages (2.4.2)\n",
            "Requirement already satisfied: portalocker in /usr/local/lib/python3.10/dist-packages (from sacrebleu) (2.8.2)\n",
            "Requirement already satisfied: regex in /usr/local/lib/python3.10/dist-packages (from sacrebleu) (2023.12.25)\n",
            "Requirement already satisfied: tabulate>=0.8.9 in /usr/local/lib/python3.10/dist-packages (from sacrebleu) (0.9.0)\n",
            "Requirement already satisfied: numpy>=1.17 in /usr/local/lib/python3.10/dist-packages (from sacrebleu) (1.25.2)\n",
            "Requirement already satisfied: colorama in /usr/local/lib/python3.10/dist-packages (from sacrebleu) (0.4.6)\n",
            "Requirement already satisfied: lxml in /usr/local/lib/python3.10/dist-packages (from sacrebleu) (4.9.4)\n",
            "Requirement already satisfied: rouge in /usr/local/lib/python3.10/dist-packages (1.0.1)\n",
            "Requirement already satisfied: six in /usr/local/lib/python3.10/dist-packages (from rouge) (1.16.0)\n"
          ]
        }
      ]
    },
    {
      "cell_type": "code",
      "execution_count": 2,
      "metadata": {
        "id": "EvJWeVtvIy_4"
      },
      "outputs": [],
      "source": [
        "# Import libraries\n",
        "import pandas as pd\n",
        "from sklearn.model_selection import train_test_split\n",
        "import tensorflow as tf\n",
        "from transformers import BartTokenizer, TFBartForConditionalGeneration\n",
        "from sacrebleu import corpus_bleu\n",
        "from rouge import Rouge"
      ]
    },
    {
      "cell_type": "code",
      "execution_count": 3,
      "metadata": {
        "id": "gxgXn7E4I4n5"
      },
      "outputs": [],
      "source": [
        "# Load the datasets\n",
        "train_df = pd.read_csv('train.csv')\n",
        "test_df = pd.read_csv('test.csv')"
      ]
    },
    {
      "cell_type": "code",
      "execution_count": 4,
      "metadata": {
        "id": "MD9k6TpdJAZk"
      },
      "outputs": [],
      "source": [
        "# Preprocess data (fill missing values)\n",
        "train_df.fillna('', inplace=True)\n",
        "test_df.fillna('', inplace=True)"
      ]
    },
    {
      "cell_type": "code",
      "execution_count": 5,
      "metadata": {
        "id": "glRcu3VzJBAR"
      },
      "outputs": [],
      "source": [
        "# Preparing input_text and target_text\n",
        "train_df['input_text'] = train_df[['Job Title', 'Preferred Qualifications', 'Hiring Company', 'Applicant Name', 'Past Working Experience', 'Current Working Experience', 'Skillsets', 'Qualifications']].agg(' '.join, axis=1)\n",
        "train_df['target_text'] = train_df['Cover Letter']"
      ]
    },
    {
      "cell_type": "code",
      "execution_count": 6,
      "metadata": {
        "id": "Joo9kqlpJCP_"
      },
      "outputs": [],
      "source": [
        "# Replace different types of new line characters with a space\n",
        "def clean_new_lines(text):\n",
        "    return text.replace('\\n\\n', ' ').replace('\\r\\n', ' ') if pd.notnull(text) else text\n",
        "\n",
        "train_df['target_text'] = train_df['Cover Letter'].apply(clean_new_lines)\n",
        "\n",
        "# Trimming white spaces\n",
        "text_columns = ['Job Title', 'Preferred Qualifications', 'Hiring Company', 'Applicant Name', 'Past Working Experience', 'Current Working Experience', 'Skillsets', 'Qualifications', 'input_text', 'target_text']\n",
        "for col in text_columns:\n",
        "    train_df[col] = train_df[col].apply(lambda x: x.strip() if isinstance(x, str) else x)\n"
      ]
    },
    {
      "cell_type": "code",
      "execution_count": 7,
      "metadata": {
        "colab": {
          "base_uri": "https://localhost:8080/",
          "height": 625
        },
        "id": "pJTSirsCJEZT",
        "outputId": "01abbfa5-8ddd-4cef-f0fc-ba7d01abe08d"
      },
      "outputs": [
        {
          "output_type": "execute_result",
          "data": {
            "text/plain": [
              "               Job Title                           Preferred Qualifications  \\\n",
              "0  Senior Java Developer         5+ years of experience in Java Development   \n",
              "1         Data Scientist             5 years of experience in data modeling   \n",
              "2         Data Scientist  Experience with Python and proficiency in at l...   \n",
              "3  Senior Data Scientist  Minimum of 3 years validated experience\\nOutst...   \n",
              "4         data scientist  35 years+ professional experience in data scie...   \n",
              "\n",
              "            Hiring Company Applicant Name            Past Working Experience  \\\n",
              "0                   Google       John Doe  Java Developer at XYZ for 3 years   \n",
              "1  XYZ Analytics Solutions     John Smith    Data Analyst at ABC Corporation   \n",
              "2            XYZ Analytics     John Smith    Data Analyst at ABC Corporation   \n",
              "3       XYZ Tech Solutions     John Smith        Data Analyst at ABC Company   \n",
              "4       xyz tech solutions     john smith        data analyst at abc company   \n",
              "\n",
              "                 Current Working Experience  \\\n",
              "0  Senior Java Developer at ABC for 2 years   \n",
              "1        Data Scientist at XYZ Technologies   \n",
              "2           Data Scientist at XYZ Solutions   \n",
              "3  Senior Data Scientist at DEF Corporation   \n",
              "4      data scientist at xyz tech solutions   \n",
              "\n",
              "                                           Skillsets  \\\n",
              "0                  Java, Spring Boot, Hibernate, SQL   \n",
              "1  Data modeling, data analysis, programming (Pyt...   \n",
              "2  Python, R, SQL, Machine Learning, Statistical ...   \n",
              "3  Python, machine learning libraries, deep learn...   \n",
              "4  Python, R, Machine Learning, NLP, Data Visuali...   \n",
              "\n",
              "                                      Qualifications  \\\n",
              "0                            BSc in Computer Science   \n",
              "1  Bachelor's degree in Computer Science, Master'...   \n",
              "2  Bachelor's degree in Computer Science, Master'...   \n",
              "3  Bachelor's degree in Computer Science, Master'...   \n",
              "4  35 years+ professional experience in data scie...   \n",
              "\n",
              "                                        Cover Letter  \\\n",
              "0  I am writing to express my interest in the Sen...   \n",
              "1  Dear Hiring Manager,\\n\\nI am writing to expres...   \n",
              "2  Dear Hiring Manager,\\n\\nI am writing to expres...   \n",
              "3  Dear Hiring Manager,\\n\\nI am writing to expres...   \n",
              "4  Dear Hiring Manager,\\n\\nI am writing to expres...   \n",
              "\n",
              "                                          input_text  \\\n",
              "0  Senior Java Developer 5+ years of experience i...   \n",
              "1  Data Scientist 5 years of experience in data m...   \n",
              "2  Data Scientist Experience with Python and prof...   \n",
              "3  Senior Data Scientist Minimum of 3 years valid...   \n",
              "4  data scientist  35 years+ professional experie...   \n",
              "\n",
              "                                         target_text  \n",
              "0  I am writing to express my interest in the Sen...  \n",
              "1  Dear Hiring Manager, I am writing to express m...  \n",
              "2  Dear Hiring Manager, I am writing to express m...  \n",
              "3  Dear Hiring Manager, I am writing to express m...  \n",
              "4  Dear Hiring Manager, I am writing to express m...  "
            ],
            "text/html": [
              "\n",
              "  <div id=\"df-80fabdba-e23d-4651-939e-45247e92b452\" class=\"colab-df-container\">\n",
              "    <div>\n",
              "<style scoped>\n",
              "    .dataframe tbody tr th:only-of-type {\n",
              "        vertical-align: middle;\n",
              "    }\n",
              "\n",
              "    .dataframe tbody tr th {\n",
              "        vertical-align: top;\n",
              "    }\n",
              "\n",
              "    .dataframe thead th {\n",
              "        text-align: right;\n",
              "    }\n",
              "</style>\n",
              "<table border=\"1\" class=\"dataframe\">\n",
              "  <thead>\n",
              "    <tr style=\"text-align: right;\">\n",
              "      <th></th>\n",
              "      <th>Job Title</th>\n",
              "      <th>Preferred Qualifications</th>\n",
              "      <th>Hiring Company</th>\n",
              "      <th>Applicant Name</th>\n",
              "      <th>Past Working Experience</th>\n",
              "      <th>Current Working Experience</th>\n",
              "      <th>Skillsets</th>\n",
              "      <th>Qualifications</th>\n",
              "      <th>Cover Letter</th>\n",
              "      <th>input_text</th>\n",
              "      <th>target_text</th>\n",
              "    </tr>\n",
              "  </thead>\n",
              "  <tbody>\n",
              "    <tr>\n",
              "      <th>0</th>\n",
              "      <td>Senior Java Developer</td>\n",
              "      <td>5+ years of experience in Java Development</td>\n",
              "      <td>Google</td>\n",
              "      <td>John Doe</td>\n",
              "      <td>Java Developer at XYZ for 3 years</td>\n",
              "      <td>Senior Java Developer at ABC for 2 years</td>\n",
              "      <td>Java, Spring Boot, Hibernate, SQL</td>\n",
              "      <td>BSc in Computer Science</td>\n",
              "      <td>I am writing to express my interest in the Sen...</td>\n",
              "      <td>Senior Java Developer 5+ years of experience i...</td>\n",
              "      <td>I am writing to express my interest in the Sen...</td>\n",
              "    </tr>\n",
              "    <tr>\n",
              "      <th>1</th>\n",
              "      <td>Data Scientist</td>\n",
              "      <td>5 years of experience in data modeling</td>\n",
              "      <td>XYZ Analytics Solutions</td>\n",
              "      <td>John Smith</td>\n",
              "      <td>Data Analyst at ABC Corporation</td>\n",
              "      <td>Data Scientist at XYZ Technologies</td>\n",
              "      <td>Data modeling, data analysis, programming (Pyt...</td>\n",
              "      <td>Bachelor's degree in Computer Science, Master'...</td>\n",
              "      <td>Dear Hiring Manager,\\n\\nI am writing to expres...</td>\n",
              "      <td>Data Scientist 5 years of experience in data m...</td>\n",
              "      <td>Dear Hiring Manager, I am writing to express m...</td>\n",
              "    </tr>\n",
              "    <tr>\n",
              "      <th>2</th>\n",
              "      <td>Data Scientist</td>\n",
              "      <td>Experience with Python and proficiency in at l...</td>\n",
              "      <td>XYZ Analytics</td>\n",
              "      <td>John Smith</td>\n",
              "      <td>Data Analyst at ABC Corporation</td>\n",
              "      <td>Data Scientist at XYZ Solutions</td>\n",
              "      <td>Python, R, SQL, Machine Learning, Statistical ...</td>\n",
              "      <td>Bachelor's degree in Computer Science, Master'...</td>\n",
              "      <td>Dear Hiring Manager,\\n\\nI am writing to expres...</td>\n",
              "      <td>Data Scientist Experience with Python and prof...</td>\n",
              "      <td>Dear Hiring Manager, I am writing to express m...</td>\n",
              "    </tr>\n",
              "    <tr>\n",
              "      <th>3</th>\n",
              "      <td>Senior Data Scientist</td>\n",
              "      <td>Minimum of 3 years validated experience\\nOutst...</td>\n",
              "      <td>XYZ Tech Solutions</td>\n",
              "      <td>John Smith</td>\n",
              "      <td>Data Analyst at ABC Company</td>\n",
              "      <td>Senior Data Scientist at DEF Corporation</td>\n",
              "      <td>Python, machine learning libraries, deep learn...</td>\n",
              "      <td>Bachelor's degree in Computer Science, Master'...</td>\n",
              "      <td>Dear Hiring Manager,\\n\\nI am writing to expres...</td>\n",
              "      <td>Senior Data Scientist Minimum of 3 years valid...</td>\n",
              "      <td>Dear Hiring Manager, I am writing to express m...</td>\n",
              "    </tr>\n",
              "    <tr>\n",
              "      <th>4</th>\n",
              "      <td>data scientist</td>\n",
              "      <td>35 years+ professional experience in data scie...</td>\n",
              "      <td>xyz tech solutions</td>\n",
              "      <td>john smith</td>\n",
              "      <td>data analyst at abc company</td>\n",
              "      <td>data scientist at xyz tech solutions</td>\n",
              "      <td>Python, R, Machine Learning, NLP, Data Visuali...</td>\n",
              "      <td>35 years+ professional experience in data scie...</td>\n",
              "      <td>Dear Hiring Manager,\\n\\nI am writing to expres...</td>\n",
              "      <td>data scientist  35 years+ professional experie...</td>\n",
              "      <td>Dear Hiring Manager, I am writing to express m...</td>\n",
              "    </tr>\n",
              "  </tbody>\n",
              "</table>\n",
              "</div>\n",
              "    <div class=\"colab-df-buttons\">\n",
              "\n",
              "  <div class=\"colab-df-container\">\n",
              "    <button class=\"colab-df-convert\" onclick=\"convertToInteractive('df-80fabdba-e23d-4651-939e-45247e92b452')\"\n",
              "            title=\"Convert this dataframe to an interactive table.\"\n",
              "            style=\"display:none;\">\n",
              "\n",
              "  <svg xmlns=\"http://www.w3.org/2000/svg\" height=\"24px\" viewBox=\"0 -960 960 960\">\n",
              "    <path d=\"M120-120v-720h720v720H120Zm60-500h600v-160H180v160Zm220 220h160v-160H400v160Zm0 220h160v-160H400v160ZM180-400h160v-160H180v160Zm440 0h160v-160H620v160ZM180-180h160v-160H180v160Zm440 0h160v-160H620v160Z\"/>\n",
              "  </svg>\n",
              "    </button>\n",
              "\n",
              "  <style>\n",
              "    .colab-df-container {\n",
              "      display:flex;\n",
              "      gap: 12px;\n",
              "    }\n",
              "\n",
              "    .colab-df-convert {\n",
              "      background-color: #E8F0FE;\n",
              "      border: none;\n",
              "      border-radius: 50%;\n",
              "      cursor: pointer;\n",
              "      display: none;\n",
              "      fill: #1967D2;\n",
              "      height: 32px;\n",
              "      padding: 0 0 0 0;\n",
              "      width: 32px;\n",
              "    }\n",
              "\n",
              "    .colab-df-convert:hover {\n",
              "      background-color: #E2EBFA;\n",
              "      box-shadow: 0px 1px 2px rgba(60, 64, 67, 0.3), 0px 1px 3px 1px rgba(60, 64, 67, 0.15);\n",
              "      fill: #174EA6;\n",
              "    }\n",
              "\n",
              "    .colab-df-buttons div {\n",
              "      margin-bottom: 4px;\n",
              "    }\n",
              "\n",
              "    [theme=dark] .colab-df-convert {\n",
              "      background-color: #3B4455;\n",
              "      fill: #D2E3FC;\n",
              "    }\n",
              "\n",
              "    [theme=dark] .colab-df-convert:hover {\n",
              "      background-color: #434B5C;\n",
              "      box-shadow: 0px 1px 3px 1px rgba(0, 0, 0, 0.15);\n",
              "      filter: drop-shadow(0px 1px 2px rgba(0, 0, 0, 0.3));\n",
              "      fill: #FFFFFF;\n",
              "    }\n",
              "  </style>\n",
              "\n",
              "    <script>\n",
              "      const buttonEl =\n",
              "        document.querySelector('#df-80fabdba-e23d-4651-939e-45247e92b452 button.colab-df-convert');\n",
              "      buttonEl.style.display =\n",
              "        google.colab.kernel.accessAllowed ? 'block' : 'none';\n",
              "\n",
              "      async function convertToInteractive(key) {\n",
              "        const element = document.querySelector('#df-80fabdba-e23d-4651-939e-45247e92b452');\n",
              "        const dataTable =\n",
              "          await google.colab.kernel.invokeFunction('convertToInteractive',\n",
              "                                                    [key], {});\n",
              "        if (!dataTable) return;\n",
              "\n",
              "        const docLinkHtml = 'Like what you see? Visit the ' +\n",
              "          '<a target=\"_blank\" href=https://colab.research.google.com/notebooks/data_table.ipynb>data table notebook</a>'\n",
              "          + ' to learn more about interactive tables.';\n",
              "        element.innerHTML = '';\n",
              "        dataTable['output_type'] = 'display_data';\n",
              "        await google.colab.output.renderOutput(dataTable, element);\n",
              "        const docLink = document.createElement('div');\n",
              "        docLink.innerHTML = docLinkHtml;\n",
              "        element.appendChild(docLink);\n",
              "      }\n",
              "    </script>\n",
              "  </div>\n",
              "\n",
              "\n",
              "<div id=\"df-20a43019-6380-4a14-a1b2-8e143088e057\">\n",
              "  <button class=\"colab-df-quickchart\" onclick=\"quickchart('df-20a43019-6380-4a14-a1b2-8e143088e057')\"\n",
              "            title=\"Suggest charts\"\n",
              "            style=\"display:none;\">\n",
              "\n",
              "<svg xmlns=\"http://www.w3.org/2000/svg\" height=\"24px\"viewBox=\"0 0 24 24\"\n",
              "     width=\"24px\">\n",
              "    <g>\n",
              "        <path d=\"M19 3H5c-1.1 0-2 .9-2 2v14c0 1.1.9 2 2 2h14c1.1 0 2-.9 2-2V5c0-1.1-.9-2-2-2zM9 17H7v-7h2v7zm4 0h-2V7h2v10zm4 0h-2v-4h2v4z\"/>\n",
              "    </g>\n",
              "</svg>\n",
              "  </button>\n",
              "\n",
              "<style>\n",
              "  .colab-df-quickchart {\n",
              "      --bg-color: #E8F0FE;\n",
              "      --fill-color: #1967D2;\n",
              "      --hover-bg-color: #E2EBFA;\n",
              "      --hover-fill-color: #174EA6;\n",
              "      --disabled-fill-color: #AAA;\n",
              "      --disabled-bg-color: #DDD;\n",
              "  }\n",
              "\n",
              "  [theme=dark] .colab-df-quickchart {\n",
              "      --bg-color: #3B4455;\n",
              "      --fill-color: #D2E3FC;\n",
              "      --hover-bg-color: #434B5C;\n",
              "      --hover-fill-color: #FFFFFF;\n",
              "      --disabled-bg-color: #3B4455;\n",
              "      --disabled-fill-color: #666;\n",
              "  }\n",
              "\n",
              "  .colab-df-quickchart {\n",
              "    background-color: var(--bg-color);\n",
              "    border: none;\n",
              "    border-radius: 50%;\n",
              "    cursor: pointer;\n",
              "    display: none;\n",
              "    fill: var(--fill-color);\n",
              "    height: 32px;\n",
              "    padding: 0;\n",
              "    width: 32px;\n",
              "  }\n",
              "\n",
              "  .colab-df-quickchart:hover {\n",
              "    background-color: var(--hover-bg-color);\n",
              "    box-shadow: 0 1px 2px rgba(60, 64, 67, 0.3), 0 1px 3px 1px rgba(60, 64, 67, 0.15);\n",
              "    fill: var(--button-hover-fill-color);\n",
              "  }\n",
              "\n",
              "  .colab-df-quickchart-complete:disabled,\n",
              "  .colab-df-quickchart-complete:disabled:hover {\n",
              "    background-color: var(--disabled-bg-color);\n",
              "    fill: var(--disabled-fill-color);\n",
              "    box-shadow: none;\n",
              "  }\n",
              "\n",
              "  .colab-df-spinner {\n",
              "    border: 2px solid var(--fill-color);\n",
              "    border-color: transparent;\n",
              "    border-bottom-color: var(--fill-color);\n",
              "    animation:\n",
              "      spin 1s steps(1) infinite;\n",
              "  }\n",
              "\n",
              "  @keyframes spin {\n",
              "    0% {\n",
              "      border-color: transparent;\n",
              "      border-bottom-color: var(--fill-color);\n",
              "      border-left-color: var(--fill-color);\n",
              "    }\n",
              "    20% {\n",
              "      border-color: transparent;\n",
              "      border-left-color: var(--fill-color);\n",
              "      border-top-color: var(--fill-color);\n",
              "    }\n",
              "    30% {\n",
              "      border-color: transparent;\n",
              "      border-left-color: var(--fill-color);\n",
              "      border-top-color: var(--fill-color);\n",
              "      border-right-color: var(--fill-color);\n",
              "    }\n",
              "    40% {\n",
              "      border-color: transparent;\n",
              "      border-right-color: var(--fill-color);\n",
              "      border-top-color: var(--fill-color);\n",
              "    }\n",
              "    60% {\n",
              "      border-color: transparent;\n",
              "      border-right-color: var(--fill-color);\n",
              "    }\n",
              "    80% {\n",
              "      border-color: transparent;\n",
              "      border-right-color: var(--fill-color);\n",
              "      border-bottom-color: var(--fill-color);\n",
              "    }\n",
              "    90% {\n",
              "      border-color: transparent;\n",
              "      border-bottom-color: var(--fill-color);\n",
              "    }\n",
              "  }\n",
              "</style>\n",
              "\n",
              "  <script>\n",
              "    async function quickchart(key) {\n",
              "      const quickchartButtonEl =\n",
              "        document.querySelector('#' + key + ' button');\n",
              "      quickchartButtonEl.disabled = true;  // To prevent multiple clicks.\n",
              "      quickchartButtonEl.classList.add('colab-df-spinner');\n",
              "      try {\n",
              "        const charts = await google.colab.kernel.invokeFunction(\n",
              "            'suggestCharts', [key], {});\n",
              "      } catch (error) {\n",
              "        console.error('Error during call to suggestCharts:', error);\n",
              "      }\n",
              "      quickchartButtonEl.classList.remove('colab-df-spinner');\n",
              "      quickchartButtonEl.classList.add('colab-df-quickchart-complete');\n",
              "    }\n",
              "    (() => {\n",
              "      let quickchartButtonEl =\n",
              "        document.querySelector('#df-20a43019-6380-4a14-a1b2-8e143088e057 button');\n",
              "      quickchartButtonEl.style.display =\n",
              "        google.colab.kernel.accessAllowed ? 'block' : 'none';\n",
              "    })();\n",
              "  </script>\n",
              "</div>\n",
              "\n",
              "    </div>\n",
              "  </div>\n"
            ],
            "application/vnd.google.colaboratory.intrinsic+json": {
              "type": "dataframe",
              "variable_name": "train_df",
              "summary": "{\n  \"name\": \"train_df\",\n  \"rows\": 813,\n  \"fields\": [\n    {\n      \"column\": \"Job Title\",\n      \"properties\": {\n        \"dtype\": \"category\",\n        \"num_unique_values\": 52,\n        \"samples\": [\n          \"Mobile App Developer\",\n          \"Java Developer\",\n          \"Director, Data & Analytics\"\n        ],\n        \"semantic_type\": \"\",\n        \"description\": \"\"\n      }\n    },\n    {\n      \"column\": \"Preferred Qualifications\",\n      \"properties\": {\n        \"dtype\": \"string\",\n        \"num_unique_values\": 541,\n        \"samples\": [\n          \"1. Degree in Statistics, Computer Science, Analytics, Operations Research, or a related field\\n  2. 2-3 years of experience in a Data Scientist or related role at a similar-sized organization\\n  3. Experience using statistical computer languages (R, Python, SQL) to manipulate data and draw insights from large data sets\\n  4. Strong collaboration skills\\n  5. Project-based experience is an asset\",\n          \"5+ years of experience in Java, Spring, Hibernate\",\n          \"8 years experience in Software Engineering\"\n        ],\n        \"semantic_type\": \"\",\n        \"description\": \"\"\n      }\n    },\n    {\n      \"column\": \"Hiring Company\",\n      \"properties\": {\n        \"dtype\": \"category\",\n        \"num_unique_values\": 158,\n        \"samples\": [\n          \"XYZ Bank\",\n          \"XYZ Analytics Inc.\",\n          \"Innovative Networks\"\n        ],\n        \"semantic_type\": \"\",\n        \"description\": \"\"\n      }\n    },\n    {\n      \"column\": \"Applicant Name\",\n      \"properties\": {\n        \"dtype\": \"category\",\n        \"num_unique_values\": 263,\n        \"samples\": [\n          \"Joshua Thomas\",\n          \"Olivia Taylor\",\n          \"John Red\"\n        ],\n        \"semantic_type\": \"\",\n        \"description\": \"\"\n      }\n    },\n    {\n      \"column\": \"Past Working Experience\",\n      \"properties\": {\n        \"dtype\": \"category\",\n        \"num_unique_values\": 340,\n        \"samples\": [\n          \"IT Support Specialist at VWX Inc for 3 years\",\n          \"Data Analyst at ABC Company, Marketing Specialist at DEF Company\",\n          \"Data Analyst at Google\"\n        ],\n        \"semantic_type\": \"\",\n        \"description\": \"\"\n      }\n    },\n    {\n      \"column\": \"Current Working Experience\",\n      \"properties\": {\n        \"dtype\": \"category\",\n        \"num_unique_values\": 376,\n        \"samples\": [\n          \"Generative AI Engineer at OpenAI for 2 years\",\n          \"Senior Java Developer at XYZ Inc for 2 years\",\n          \"Senior Support Engineer at PQR Corp for 3 years\"\n        ],\n        \"semantic_type\": \"\",\n        \"description\": \"\"\n      }\n    },\n    {\n      \"column\": \"Skillsets\",\n      \"properties\": {\n        \"dtype\": \"string\",\n        \"num_unique_values\": 483,\n        \"samples\": [\n          \"Python, SQL, data analysis, data modeling, time series forecasting, data visualization, statistical analysis, communication, leadership\",\n          \"Excellent SQL skills, strong business modeling skills, proficiency in cloud data platforms (GCP, MS, AWS), objectoriented programming (OOP) understanding, experience with SAP HANA data environment\",\n          \"hard skills: azure, power bi, sql, python, data visualization, data management\\n soft skills: strong communication, leadership, problemsolving, teamwork\"\n        ],\n        \"semantic_type\": \"\",\n        \"description\": \"\"\n      }\n    },\n    {\n      \"column\": \"Qualifications\",\n      \"properties\": {\n        \"dtype\": \"category\",\n        \"num_unique_values\": 216,\n        \"samples\": [\n          \"Bachelor's degree in Computer Science or related field\\nMaster's degree in Data Science or equivalent experience\",\n          \"include a completed Bachelor's or Master's degree in Statistics, Actuarial Science, Finance, Mathematics, or a related field, along with relevant experience in the field.\",\n          \"Bachelor's degree in Computer Science, 3+ years of experience in data analysis and machine learning, strong analytical and problemsolving skills\"\n        ],\n        \"semantic_type\": \"\",\n        \"description\": \"\"\n      }\n    },\n    {\n      \"column\": \"Cover Letter\",\n      \"properties\": {\n        \"dtype\": \"string\",\n        \"num_unique_values\": 760,\n        \"samples\": [\n          \"I am writing to express my interest in the Senior Java Developer position at Tech Solutions. With over 8 years of experience in the field, I have honed my abilities in Java, Spring Boot, Hibernate, and SQL. I am currently working as a Senior Developer at ABC Tech, where I have successfully delivered numerous projects. I believe that my technical skills, combined with my passion for coding, make me a strong candidate for this role. I am excited about the opportunity to work with a dynamic team and contribute to innovative projects.\",\n          \"Dear Hiring Manager,\\n\\nI am writing to express my interest in the Data Scientist position at XYZ Solutions. With my strong background in machine learning, data analysis, and data visualization, I believe I am well-suited for this role.\\n\\nIn my current position as a Machine Learning Engineer at DEF Inc, I have gained extensive experience in building ML and DL models, deploying them in a cloud environment using containers, and working with computer vision and state-of-the-art vision models. I have also utilized big data platforms like Spark and business intelligence tools like Power BI to derive insights from large datasets.\\n\\nFurthermore, my past experience as a Data Analyst at ABC Corp has provided me with a solid foundation in data analysis and visualization techniques. I am proficient in Python, R, TensorFlow, and have hands-on experience with cloud-based technologies such as Azure and AWS.\\n\\nI am excited about the opportunity to work with an innovative company like XYZ Solutions and contribute to driving business value through the adoption of AI. I am confident that my skills and qualifications make me a strong fit for this position.\\n\\nThank you for considering my application. I look forward to the opportunity to discuss how I can contribute to the success of XYZ Solutions.\\n\\nSincerely,\\nJohn Smith\",\n          \"I am interested in the System Administrator position at IBM. I have over 9 years of experience in system administration, and I am proficient in Linux, Windows Server, and cloud platforms. I have a proven track record of managing and maintaining servers and resolving complex technical issues. I am confident that my skills and experiences make me a perfect fit for this position. I am excited about the opportunity to contribute to IBM's success.\"\n        ],\n        \"semantic_type\": \"\",\n        \"description\": \"\"\n      }\n    },\n    {\n      \"column\": \"input_text\",\n      \"properties\": {\n        \"dtype\": \"string\",\n        \"num_unique_values\": 810,\n        \"samples\": [\n          \"System Administrator Debian, Fedora, Ansible Amazon Sarah Harris Facebook (5 years) Netflix (2 years) Debian, Fedora, Ansible, Perl Master's in Information Technology\",\n          \"Senior Database Administrator 5+ years of experience in database administration, SQL proficiency, knowledge of Oracle and Microsoft SQL Server Tech Solutions Inc. John Doe Database Administrator at InfoTech for 4 years Senior Database Administrator at Tech Solutions for 3 years SQL, Oracle, Microsoft SQL Server, Database Security Bachelor's degree in Computer Science\",\n          \"Data Scientist 2+ years of work experience in data science and machine learning\\nExperience with deep neural network architectures, particularly transformer models\\nSolid experience in deploying production-level AI models\\nMaster's or PhD degree in Mathematics, Statistics, or Computer Science with a focus on AI/ML areas XYZ Corporation John Smith Data Analyst at ABC Company Data Scientist at DEF Company Python, R, Machine Learning, Deep Learning, Natural Language Processing, Data Visualization, Statistical Analysis Bachelor's degree in Computer Science with a specialization in Data Science\"\n        ],\n        \"semantic_type\": \"\",\n        \"description\": \"\"\n      }\n    },\n    {\n      \"column\": \"target_text\",\n      \"properties\": {\n        \"dtype\": \"string\",\n        \"num_unique_values\": 759,\n        \"samples\": [\n          \"I am excited to apply for the Data Scientist position at Facebook. I have a Master's degree in Data Science and have been working as a Data Scientist at Amazon for the past three years. Before that, I was a Data Analyst at Microsoft for four years. I am proficient in Python, SQL, and have a deep understanding of Machine Learning and Deep Learning. I am confident that my skills and experience make me a strong candidate for this role.\",\n          \"I am eager to apply for the Network Engineer position at Amazon. My experience with QoS, VoIP, and SIP, as well as my strong understanding of network management, makes me a strong candidate for this role. I am confident that I can contribute significantly to your team.\",\n          \"I am interested in the System Administrator position at IBM. I have over 9 years of experience in system administration, and I am proficient in Linux, Windows Server, and cloud platforms. I have a proven track record of managing and maintaining servers and resolving complex technical issues. I am confident that my skills and experiences make me a perfect fit for this position. I am excited about the opportunity to contribute to IBM's success.\"\n        ],\n        \"semantic_type\": \"\",\n        \"description\": \"\"\n      }\n    }\n  ]\n}"
            }
          },
          "metadata": {},
          "execution_count": 7
        }
      ],
      "source": [
        "train_df.head()"
      ]
    },
    {
      "cell_type": "code",
      "source": [
        "train_df.shape"
      ],
      "metadata": {
        "colab": {
          "base_uri": "https://localhost:8080/"
        },
        "id": "1X2Ycu8WwoNQ",
        "outputId": "8ad3a3bc-99ec-4b9a-94d3-8944e0c03ca2"
      },
      "execution_count": 8,
      "outputs": [
        {
          "output_type": "execute_result",
          "data": {
            "text/plain": [
              "(813, 11)"
            ]
          },
          "metadata": {},
          "execution_count": 8
        }
      ]
    },
    {
      "cell_type": "code",
      "execution_count": 9,
      "metadata": {
        "id": "-Lp_50xxJGmX"
      },
      "outputs": [],
      "source": [
        "# Split data into training and validation sets\n",
        "train_texts, val_texts, train_labels, val_labels = train_test_split(train_df['input_text'], train_df['target_text'], test_size=0.2)"
      ]
    },
    {
      "cell_type": "code",
      "execution_count": 10,
      "metadata": {
        "colab": {
          "base_uri": "https://localhost:8080/"
        },
        "id": "0s5YgbbzJOwh",
        "outputId": "134a16e7-80df-4722-b241-818ae4841faf"
      },
      "outputs": [
        {
          "output_type": "stream",
          "name": "stderr",
          "text": [
            "/usr/local/lib/python3.10/dist-packages/huggingface_hub/utils/_token.py:88: UserWarning: \n",
            "The secret `HF_TOKEN` does not exist in your Colab secrets.\n",
            "To authenticate with the Hugging Face Hub, create a token in your settings tab (https://huggingface.co/settings/tokens), set it as secret in your Google Colab and restart your session.\n",
            "You will be able to reuse this secret in all of your notebooks.\n",
            "Please note that authentication is recommended but still optional to access public models or datasets.\n",
            "  warnings.warn(\n",
            "All PyTorch model weights were used when initializing TFBartForConditionalGeneration.\n",
            "\n",
            "All the weights of TFBartForConditionalGeneration were initialized from the PyTorch model.\n",
            "If your task is similar to the task the model of the checkpoint was trained on, you can already use TFBartForConditionalGeneration for predictions without further training.\n"
          ]
        }
      ],
      "source": [
        "# Load tokenizer and model\n",
        "model_name = 'facebook/bart-base'\n",
        "tokenizer = BartTokenizer.from_pretrained(model_name)\n",
        "model = TFBartForConditionalGeneration.from_pretrained(model_name)\n"
      ]
    },
    {
      "cell_type": "code",
      "execution_count": 11,
      "metadata": {
        "id": "VMY8CrrPJQsB"
      },
      "outputs": [],
      "source": [
        "# Tokenize data\n",
        "def tokenize_data(texts, labels, tokenizer, max_length=512):\n",
        "    if not isinstance(texts, list) or not all(isinstance(text, str) for text in texts):\n",
        "        raise ValueError(\"Texts must be a list of strings.\")\n",
        "    if not isinstance(labels, list) or not all(isinstance(label, str) for label in labels):\n",
        "        raise ValueError(\"Labels must be a list of strings.\")\n",
        "\n",
        "    encodings = tokenizer(texts, truncation=True, padding=True, max_length=max_length)\n",
        "    labels_encoded = tokenizer(labels, truncation=True, padding=True, max_length=max_length).input_ids\n",
        "\n",
        "    labels_encoded = [[-100 if token == tokenizer.pad_token_id else token for token in label] for label in labels_encoded]\n",
        "\n",
        "    return {\n",
        "        'input_ids': encodings['input_ids'],\n",
        "        'attention_mask': encodings['attention_mask'],\n",
        "        'labels': labels_encoded\n",
        "    }\n",
        "\n",
        "try:\n",
        "    train_data = tokenize_data(train_texts.tolist(), train_labels.tolist(), tokenizer)\n",
        "    val_data = tokenize_data(val_texts.tolist(), val_labels.tolist(), tokenizer)\n",
        "except ValueError as e:\n",
        "    print(e)\n"
      ]
    },
    {
      "cell_type": "code",
      "execution_count": 12,
      "metadata": {
        "id": "7qf3ersmJkZj"
      },
      "outputs": [],
      "source": [
        "# Convert data to TensorFlow datasets\n",
        "train_dataset = tf.data.Dataset.from_tensor_slices(({\n",
        "    \"input_ids\": tf.cast(train_data['input_ids'], tf.int32),\n",
        "    \"attention_mask\": tf.cast(train_data['attention_mask'], tf.int32),\n",
        "    \"labels\": tf.cast(train_data['labels'], tf.int32)\n",
        "}))\n",
        "\n",
        "val_dataset = tf.data.Dataset.from_tensor_slices(({\n",
        "    \"input_ids\": tf.cast(val_data['input_ids'], tf.int32),\n",
        "    \"attention_mask\": tf.cast(val_data['attention_mask'], tf.int32),\n",
        "    \"labels\": tf.cast(val_data['labels'], tf.int32)\n",
        "}))"
      ]
    },
    {
      "cell_type": "code",
      "execution_count": 13,
      "metadata": {
        "colab": {
          "base_uri": "https://localhost:8080/"
        },
        "id": "EI83IOKpKWB3",
        "outputId": "cc835df5-9ca2-462d-9e45-60cb6c68605b"
      },
      "outputs": [
        {
          "output_type": "stream",
          "name": "stdout",
          "text": [
            "Training set shapes:\n",
            "{'input_ids': TensorSpec(shape=(294,), dtype=tf.int32, name=None), 'attention_mask': TensorSpec(shape=(294,), dtype=tf.int32, name=None), 'labels': TensorSpec(shape=(352,), dtype=tf.int32, name=None)}\n",
            "Validation set shapes:\n",
            "{'input_ids': TensorSpec(shape=(259,), dtype=tf.int32, name=None), 'attention_mask': TensorSpec(shape=(259,), dtype=tf.int32, name=None), 'labels': TensorSpec(shape=(295,), dtype=tf.int32, name=None)}\n"
          ]
        }
      ],
      "source": [
        "print(\"Training set shapes:\")\n",
        "print(train_dataset.element_spec)\n",
        "print(\"Validation set shapes:\")\n",
        "print(val_dataset.element_spec)"
      ]
    },
    {
      "cell_type": "code",
      "source": [
        "!pip install --upgrade transformers\n"
      ],
      "metadata": {
        "colab": {
          "base_uri": "https://localhost:8080/",
          "height": 584
        },
        "id": "Byt6PIoiF7_G",
        "outputId": "cf76ff52-4f51-4302-c860-8a662cf9be0a"
      },
      "execution_count": 27,
      "outputs": [
        {
          "output_type": "stream",
          "name": "stdout",
          "text": [
            "Requirement already satisfied: transformers in /usr/local/lib/python3.10/dist-packages (4.38.2)\n",
            "Collecting transformers\n",
            "  Downloading transformers-4.39.3-py3-none-any.whl (8.8 MB)\n",
            "\u001b[2K     \u001b[90m━━━━━━━━━━━━━━━━━━━━━━━━━━━━━━━━━━━━━━━━\u001b[0m \u001b[32m8.8/8.8 MB\u001b[0m \u001b[31m31.8 MB/s\u001b[0m eta \u001b[36m0:00:00\u001b[0m\n",
            "\u001b[?25hRequirement already satisfied: filelock in /usr/local/lib/python3.10/dist-packages (from transformers) (3.13.4)\n",
            "Requirement already satisfied: huggingface-hub<1.0,>=0.19.3 in /usr/local/lib/python3.10/dist-packages (from transformers) (0.20.3)\n",
            "Requirement already satisfied: numpy>=1.17 in /usr/local/lib/python3.10/dist-packages (from transformers) (1.25.2)\n",
            "Requirement already satisfied: packaging>=20.0 in /usr/local/lib/python3.10/dist-packages (from transformers) (24.0)\n",
            "Requirement already satisfied: pyyaml>=5.1 in /usr/local/lib/python3.10/dist-packages (from transformers) (6.0.1)\n",
            "Requirement already satisfied: regex!=2019.12.17 in /usr/local/lib/python3.10/dist-packages (from transformers) (2023.12.25)\n",
            "Requirement already satisfied: requests in /usr/local/lib/python3.10/dist-packages (from transformers) (2.31.0)\n",
            "Requirement already satisfied: tokenizers<0.19,>=0.14 in /usr/local/lib/python3.10/dist-packages (from transformers) (0.15.2)\n",
            "Requirement already satisfied: safetensors>=0.4.1 in /usr/local/lib/python3.10/dist-packages (from transformers) (0.4.2)\n",
            "Requirement already satisfied: tqdm>=4.27 in /usr/local/lib/python3.10/dist-packages (from transformers) (4.66.2)\n",
            "Requirement already satisfied: fsspec>=2023.5.0 in /usr/local/lib/python3.10/dist-packages (from huggingface-hub<1.0,>=0.19.3->transformers) (2023.6.0)\n",
            "Requirement already satisfied: typing-extensions>=3.7.4.3 in /usr/local/lib/python3.10/dist-packages (from huggingface-hub<1.0,>=0.19.3->transformers) (4.11.0)\n",
            "Requirement already satisfied: charset-normalizer<4,>=2 in /usr/local/lib/python3.10/dist-packages (from requests->transformers) (3.3.2)\n",
            "Requirement already satisfied: idna<4,>=2.5 in /usr/local/lib/python3.10/dist-packages (from requests->transformers) (3.6)\n",
            "Requirement already satisfied: urllib3<3,>=1.21.1 in /usr/local/lib/python3.10/dist-packages (from requests->transformers) (2.0.7)\n",
            "Requirement already satisfied: certifi>=2017.4.17 in /usr/local/lib/python3.10/dist-packages (from requests->transformers) (2024.2.2)\n",
            "Installing collected packages: transformers\n",
            "  Attempting uninstall: transformers\n",
            "    Found existing installation: transformers 4.38.2\n",
            "    Uninstalling transformers-4.38.2:\n",
            "      Successfully uninstalled transformers-4.38.2\n",
            "Successfully installed transformers-4.39.3\n"
          ]
        },
        {
          "output_type": "display_data",
          "data": {
            "application/vnd.colab-display-data+json": {
              "pip_warning": {
                "packages": [
                  "transformers"
                ]
              },
              "id": "3d35d62d02f746f5a51fe2e407c0be37"
            }
          },
          "metadata": {}
        }
      ]
    },
    {
      "cell_type": "code",
      "execution_count": 36,
      "metadata": {
        "colab": {
          "base_uri": "https://localhost:8080/"
        },
        "id": "uuT3fKgHK37l",
        "outputId": "524f212b-fe0e-4e5a-f69d-59f4433f89f5"
      },
      "outputs": [
        {
          "output_type": "stream",
          "name": "stdout",
          "text": [
            "Epoch 1/100\n",
            "325/325 [==============================] - 142s 205ms/step - loss: 0.0086 - accuracy: 0.4714 - val_loss: 1.7035 - val_accuracy: 0.4398\n",
            "Epoch 2/100\n",
            "325/325 [==============================] - 52s 159ms/step - loss: 0.0098 - accuracy: 0.4711 - val_loss: 1.7303 - val_accuracy: 0.4397\n",
            "Epoch 3/100\n",
            "325/325 [==============================] - 51s 158ms/step - loss: 0.0109 - accuracy: 0.4710 - val_loss: 1.6962 - val_accuracy: 0.4394\n",
            "Epoch 4/100\n",
            "325/325 [==============================] - 52s 159ms/step - loss: 0.0115 - accuracy: 0.4710 - val_loss: 1.6969 - val_accuracy: 0.4403\n",
            "Epoch 5/100\n",
            "325/325 [==============================] - 51s 158ms/step - loss: 0.0142 - accuracy: 0.4707 - val_loss: 1.7071 - val_accuracy: 0.4402\n",
            "Epoch 6/100\n",
            "325/325 [==============================] - 51s 158ms/step - loss: 0.0076 - accuracy: 0.4714 - val_loss: 1.7009 - val_accuracy: 0.4395\n",
            "Epoch 7/100\n",
            "325/325 [==============================] - 51s 158ms/step - loss: 0.0097 - accuracy: 0.4713 - val_loss: 1.7205 - val_accuracy: 0.4404\n",
            "Epoch 8/100\n",
            "325/325 [==============================] - 52s 159ms/step - loss: 0.0095 - accuracy: 0.4713 - val_loss: 1.7171 - val_accuracy: 0.4392\n",
            "Epoch 9/100\n",
            "325/325 [==============================] - 52s 159ms/step - loss: 0.0087 - accuracy: 0.4713 - val_loss: 1.7016 - val_accuracy: 0.4398\n",
            "Epoch 10/100\n",
            "325/325 [==============================] - 52s 160ms/step - loss: 0.0127 - accuracy: 0.4707 - val_loss: 1.7100 - val_accuracy: 0.4390\n",
            "Epoch 11/100\n",
            "325/325 [==============================] - 52s 159ms/step - loss: 0.0074 - accuracy: 0.4715 - val_loss: 1.6848 - val_accuracy: 0.4406\n",
            "Epoch 12/100\n",
            "325/325 [==============================] - 52s 159ms/step - loss: 0.0106 - accuracy: 0.4712 - val_loss: 1.6866 - val_accuracy: 0.4404\n",
            "Epoch 13/100\n",
            "325/325 [==============================] - 51s 158ms/step - loss: 0.0094 - accuracy: 0.4713 - val_loss: 1.7301 - val_accuracy: 0.4398\n",
            "Epoch 14/100\n",
            "325/325 [==============================] - 51s 158ms/step - loss: 0.0125 - accuracy: 0.4708 - val_loss: 1.7218 - val_accuracy: 0.4405\n",
            "Epoch 15/100\n",
            "325/325 [==============================] - 51s 158ms/step - loss: 0.0129 - accuracy: 0.4709 - val_loss: 1.7030 - val_accuracy: 0.4398\n",
            "Epoch 16/100\n",
            "325/325 [==============================] - 52s 159ms/step - loss: 0.0112 - accuracy: 0.4711 - val_loss: 1.7109 - val_accuracy: 0.4406\n",
            "Epoch 17/100\n",
            "325/325 [==============================] - 51s 158ms/step - loss: 0.0092 - accuracy: 0.4714 - val_loss: 1.7210 - val_accuracy: 0.4392\n",
            "Epoch 18/100\n",
            "325/325 [==============================] - 51s 158ms/step - loss: 0.0076 - accuracy: 0.4715 - val_loss: 1.7280 - val_accuracy: 0.4399\n",
            "Epoch 19/100\n",
            "325/325 [==============================] - 51s 158ms/step - loss: 0.0067 - accuracy: 0.4717 - val_loss: 1.7321 - val_accuracy: 0.4407\n",
            "Epoch 20/100\n",
            "325/325 [==============================] - 51s 158ms/step - loss: 0.0064 - accuracy: 0.4717 - val_loss: 1.7441 - val_accuracy: 0.4405\n",
            "Epoch 21/100\n",
            "325/325 [==============================] - 51s 158ms/step - loss: 0.0084 - accuracy: 0.4714 - val_loss: 1.7361 - val_accuracy: 0.4399\n",
            "Epoch 22/100\n",
            "325/325 [==============================] - 51s 158ms/step - loss: 0.0090 - accuracy: 0.4714 - val_loss: 1.7391 - val_accuracy: 0.4395\n",
            "Epoch 23/100\n",
            "325/325 [==============================] - 51s 158ms/step - loss: 0.0163 - accuracy: 0.4705 - val_loss: 1.6944 - val_accuracy: 0.4393\n",
            "Epoch 24/100\n",
            "325/325 [==============================] - 52s 159ms/step - loss: 0.0100 - accuracy: 0.4712 - val_loss: 1.7224 - val_accuracy: 0.4377\n",
            "Epoch 25/100\n",
            "325/325 [==============================] - 51s 158ms/step - loss: 0.0141 - accuracy: 0.4707 - val_loss: 1.7304 - val_accuracy: 0.4393\n",
            "Epoch 26/100\n",
            "325/325 [==============================] - 52s 159ms/step - loss: 0.0092 - accuracy: 0.4714 - val_loss: 1.7486 - val_accuracy: 0.4395\n",
            "Epoch 27/100\n",
            "325/325 [==============================] - 52s 159ms/step - loss: 0.0055 - accuracy: 0.4718 - val_loss: 1.7319 - val_accuracy: 0.4404\n",
            "Epoch 28/100\n",
            "325/325 [==============================] - 52s 159ms/step - loss: 0.0058 - accuracy: 0.4718 - val_loss: 1.7467 - val_accuracy: 0.4402\n",
            "Epoch 29/100\n",
            "325/325 [==============================] - 52s 159ms/step - loss: 0.0062 - accuracy: 0.4718 - val_loss: 1.7365 - val_accuracy: 0.4401\n",
            "Epoch 30/100\n",
            "325/325 [==============================] - 52s 159ms/step - loss: 0.0053 - accuracy: 0.4719 - val_loss: 1.7445 - val_accuracy: 0.4385\n",
            "Epoch 31/100\n",
            "325/325 [==============================] - 52s 159ms/step - loss: 0.0091 - accuracy: 0.4714 - val_loss: 1.7400 - val_accuracy: 0.4402\n",
            "Epoch 32/100\n",
            "325/325 [==============================] - 52s 159ms/step - loss: 0.0087 - accuracy: 0.4715 - val_loss: 1.7553 - val_accuracy: 0.4395\n",
            "Epoch 33/100\n",
            "325/325 [==============================] - 52s 159ms/step - loss: 0.0066 - accuracy: 0.4716 - val_loss: 1.7456 - val_accuracy: 0.4411\n",
            "Epoch 34/100\n",
            "325/325 [==============================] - 52s 159ms/step - loss: 0.0052 - accuracy: 0.4718 - val_loss: 1.7668 - val_accuracy: 0.4403\n",
            "Epoch 35/100\n",
            "325/325 [==============================] - 51s 158ms/step - loss: 0.0074 - accuracy: 0.4716 - val_loss: 1.7658 - val_accuracy: 0.4397\n",
            "Epoch 36/100\n",
            "325/325 [==============================] - 51s 158ms/step - loss: 0.0102 - accuracy: 0.4712 - val_loss: 1.7364 - val_accuracy: 0.4398\n",
            "Epoch 37/100\n",
            "325/325 [==============================] - 51s 158ms/step - loss: 0.0084 - accuracy: 0.4714 - val_loss: 1.7565 - val_accuracy: 0.4407\n",
            "Epoch 38/100\n",
            "325/325 [==============================] - 52s 159ms/step - loss: 0.0088 - accuracy: 0.4715 - val_loss: 1.7467 - val_accuracy: 0.4389\n",
            "Epoch 39/100\n",
            "325/325 [==============================] - 51s 158ms/step - loss: 0.0081 - accuracy: 0.4715 - val_loss: 1.7767 - val_accuracy: 0.4393\n",
            "Epoch 40/100\n",
            "325/325 [==============================] - 51s 158ms/step - loss: 0.0108 - accuracy: 0.4712 - val_loss: 1.7503 - val_accuracy: 0.4392\n",
            "Epoch 41/100\n",
            "325/325 [==============================] - 51s 158ms/step - loss: 0.0087 - accuracy: 0.4714 - val_loss: 1.7382 - val_accuracy: 0.4402\n",
            "Epoch 42/100\n",
            "325/325 [==============================] - 51s 158ms/step - loss: 0.0072 - accuracy: 0.4717 - val_loss: 1.7452 - val_accuracy: 0.4401\n",
            "Epoch 43/100\n",
            "325/325 [==============================] - 51s 158ms/step - loss: 0.0067 - accuracy: 0.4717 - val_loss: 1.7491 - val_accuracy: 0.4398\n",
            "Epoch 44/100\n",
            "325/325 [==============================] - 51s 158ms/step - loss: 0.0066 - accuracy: 0.4717 - val_loss: 1.7763 - val_accuracy: 0.4391\n",
            "Epoch 45/100\n",
            "325/325 [==============================] - 51s 158ms/step - loss: 0.0090 - accuracy: 0.4713 - val_loss: 1.7597 - val_accuracy: 0.4386\n",
            "Epoch 46/100\n",
            "325/325 [==============================] - 52s 159ms/step - loss: 0.0074 - accuracy: 0.4715 - val_loss: 1.7770 - val_accuracy: 0.4390\n",
            "Epoch 47/100\n",
            "325/325 [==============================] - 51s 158ms/step - loss: 0.0067 - accuracy: 0.4716 - val_loss: 1.7939 - val_accuracy: 0.4399\n",
            "Epoch 48/100\n",
            "325/325 [==============================] - 51s 158ms/step - loss: 0.0075 - accuracy: 0.4716 - val_loss: 1.7737 - val_accuracy: 0.4394\n",
            "Epoch 49/100\n",
            "325/325 [==============================] - 51s 158ms/step - loss: 0.0069 - accuracy: 0.4717 - val_loss: 1.7516 - val_accuracy: 0.4400\n",
            "Epoch 50/100\n",
            "325/325 [==============================] - 51s 158ms/step - loss: 0.0071 - accuracy: 0.4716 - val_loss: 1.7813 - val_accuracy: 0.4386\n",
            "Epoch 51/100\n",
            "325/325 [==============================] - 51s 158ms/step - loss: 0.0083 - accuracy: 0.4716 - val_loss: 1.7485 - val_accuracy: 0.4394\n",
            "Epoch 52/100\n",
            "325/325 [==============================] - 52s 159ms/step - loss: 0.0081 - accuracy: 0.4715 - val_loss: 1.7693 - val_accuracy: 0.4385\n",
            "Epoch 53/100\n",
            "325/325 [==============================] - 51s 158ms/step - loss: 0.0093 - accuracy: 0.4714 - val_loss: 1.7658 - val_accuracy: 0.4399\n",
            "Epoch 54/100\n",
            "325/325 [==============================] - 51s 158ms/step - loss: 0.0090 - accuracy: 0.4714 - val_loss: 1.7989 - val_accuracy: 0.4386\n",
            "Epoch 55/100\n",
            "325/325 [==============================] - 51s 158ms/step - loss: 0.0076 - accuracy: 0.4715 - val_loss: 1.7809 - val_accuracy: 0.4397\n",
            "Epoch 56/100\n",
            "325/325 [==============================] - 51s 158ms/step - loss: 0.0094 - accuracy: 0.4714 - val_loss: 1.7657 - val_accuracy: 0.4396\n",
            "Epoch 57/100\n",
            "325/325 [==============================] - 51s 158ms/step - loss: 0.0072 - accuracy: 0.4717 - val_loss: 1.7924 - val_accuracy: 0.4405\n",
            "Epoch 58/100\n",
            "325/325 [==============================] - 51s 158ms/step - loss: 0.0075 - accuracy: 0.4716 - val_loss: 1.7747 - val_accuracy: 0.4383\n",
            "Epoch 59/100\n",
            "325/325 [==============================] - 51s 157ms/step - loss: 0.0076 - accuracy: 0.4716 - val_loss: 1.7762 - val_accuracy: 0.4403\n",
            "Epoch 60/100\n",
            "325/325 [==============================] - 51s 158ms/step - loss: 0.0078 - accuracy: 0.4716 - val_loss: 1.7854 - val_accuracy: 0.4388\n",
            "Epoch 61/100\n",
            "325/325 [==============================] - 51s 158ms/step - loss: 0.0082 - accuracy: 0.4716 - val_loss: 1.7870 - val_accuracy: 0.4394\n",
            "Epoch 62/100\n",
            "325/325 [==============================] - 51s 157ms/step - loss: 0.0066 - accuracy: 0.4718 - val_loss: 1.7960 - val_accuracy: 0.4406\n",
            "Epoch 63/100\n",
            "325/325 [==============================] - 51s 157ms/step - loss: 0.0101 - accuracy: 0.4715 - val_loss: 1.7795 - val_accuracy: 0.4382\n",
            "Epoch 64/100\n",
            "325/325 [==============================] - 51s 158ms/step - loss: 0.0060 - accuracy: 0.4718 - val_loss: 1.7740 - val_accuracy: 0.4398\n",
            "Epoch 65/100\n",
            "325/325 [==============================] - 51s 158ms/step - loss: 0.0100 - accuracy: 0.4714 - val_loss: 1.7595 - val_accuracy: 0.4396\n",
            "Epoch 66/100\n",
            "325/325 [==============================] - 51s 157ms/step - loss: 0.0067 - accuracy: 0.4716 - val_loss: 1.7622 - val_accuracy: 0.4402\n",
            "Epoch 67/100\n",
            "325/325 [==============================] - 51s 157ms/step - loss: 0.0059 - accuracy: 0.4718 - val_loss: 1.8019 - val_accuracy: 0.4387\n",
            "Epoch 68/100\n",
            "325/325 [==============================] - 51s 157ms/step - loss: 0.0059 - accuracy: 0.4719 - val_loss: 1.7822 - val_accuracy: 0.4391\n",
            "Epoch 69/100\n",
            "325/325 [==============================] - 51s 157ms/step - loss: 0.0081 - accuracy: 0.4716 - val_loss: 1.8042 - val_accuracy: 0.4391\n",
            "Epoch 70/100\n",
            "325/325 [==============================] - 52s 159ms/step - loss: 0.0091 - accuracy: 0.4715 - val_loss: 1.7634 - val_accuracy: 0.4393\n",
            "Epoch 71/100\n",
            "325/325 [==============================] - 51s 158ms/step - loss: 0.0072 - accuracy: 0.4715 - val_loss: 1.7720 - val_accuracy: 0.4402\n",
            "Epoch 72/100\n",
            "325/325 [==============================] - 51s 158ms/step - loss: 0.0062 - accuracy: 0.4719 - val_loss: 1.7652 - val_accuracy: 0.4396\n",
            "Epoch 73/100\n",
            "325/325 [==============================] - 51s 158ms/step - loss: 0.0083 - accuracy: 0.4716 - val_loss: 1.8107 - val_accuracy: 0.4399\n",
            "Epoch 74/100\n",
            "325/325 [==============================] - 51s 158ms/step - loss: 0.0099 - accuracy: 0.4715 - val_loss: 1.7748 - val_accuracy: 0.4405\n",
            "Epoch 75/100\n",
            "325/325 [==============================] - 51s 158ms/step - loss: 0.0078 - accuracy: 0.4717 - val_loss: 1.7872 - val_accuracy: 0.4395\n",
            "Epoch 76/100\n",
            "325/325 [==============================] - 52s 159ms/step - loss: 0.0084 - accuracy: 0.4716 - val_loss: 1.7997 - val_accuracy: 0.4392\n",
            "Epoch 77/100\n",
            "325/325 [==============================] - 52s 159ms/step - loss: 0.0068 - accuracy: 0.4718 - val_loss: 1.8094 - val_accuracy: 0.4403\n",
            "Epoch 78/100\n",
            "325/325 [==============================] - 51s 158ms/step - loss: 0.0047 - accuracy: 0.4720 - val_loss: 1.7827 - val_accuracy: 0.4405\n",
            "Epoch 79/100\n",
            "325/325 [==============================] - 52s 159ms/step - loss: 0.0067 - accuracy: 0.4718 - val_loss: 1.8049 - val_accuracy: 0.4399\n",
            "Epoch 80/100\n",
            "325/325 [==============================] - 52s 159ms/step - loss: 0.0058 - accuracy: 0.4719 - val_loss: 1.7821 - val_accuracy: 0.4380\n",
            "Epoch 81/100\n",
            "325/325 [==============================] - 52s 159ms/step - loss: 0.0095 - accuracy: 0.4715 - val_loss: 1.7947 - val_accuracy: 0.4380\n",
            "Epoch 82/100\n",
            "325/325 [==============================] - 52s 160ms/step - loss: 0.0093 - accuracy: 0.4714 - val_loss: 1.7847 - val_accuracy: 0.4381\n",
            "Epoch 83/100\n",
            "325/325 [==============================] - 52s 159ms/step - loss: 0.0094 - accuracy: 0.4714 - val_loss: 1.7851 - val_accuracy: 0.4387\n",
            "Epoch 84/100\n",
            "325/325 [==============================] - 51s 158ms/step - loss: 0.0055 - accuracy: 0.4719 - val_loss: 1.8051 - val_accuracy: 0.4396\n",
            "Epoch 85/100\n",
            "325/325 [==============================] - 51s 158ms/step - loss: 0.0042 - accuracy: 0.4721 - val_loss: 1.7999 - val_accuracy: 0.4399\n",
            "Epoch 86/100\n",
            "325/325 [==============================] - 51s 158ms/step - loss: 0.0040 - accuracy: 0.4721 - val_loss: 1.8288 - val_accuracy: 0.4396\n",
            "Epoch 87/100\n",
            "325/325 [==============================] - 51s 158ms/step - loss: 0.0108 - accuracy: 0.4713 - val_loss: 1.7956 - val_accuracy: 0.4395\n",
            "Epoch 88/100\n",
            "325/325 [==============================] - 51s 158ms/step - loss: 0.0056 - accuracy: 0.4718 - val_loss: 1.8049 - val_accuracy: 0.4396\n",
            "Epoch 89/100\n",
            "325/325 [==============================] - 51s 158ms/step - loss: 0.0057 - accuracy: 0.4719 - val_loss: 1.8021 - val_accuracy: 0.4394\n",
            "Epoch 90/100\n",
            "325/325 [==============================] - 51s 158ms/step - loss: 0.0055 - accuracy: 0.4719 - val_loss: 1.8225 - val_accuracy: 0.4396\n",
            "Epoch 91/100\n",
            "325/325 [==============================] - 51s 158ms/step - loss: 0.0068 - accuracy: 0.4716 - val_loss: 1.8166 - val_accuracy: 0.4392\n",
            "Epoch 92/100\n",
            "325/325 [==============================] - 51s 158ms/step - loss: 0.0061 - accuracy: 0.4718 - val_loss: 1.7972 - val_accuracy: 0.4397\n",
            "Epoch 93/100\n",
            "325/325 [==============================] - 51s 158ms/step - loss: 0.0065 - accuracy: 0.4717 - val_loss: 1.8193 - val_accuracy: 0.4392\n",
            "Epoch 94/100\n",
            "325/325 [==============================] - 51s 158ms/step - loss: 0.0060 - accuracy: 0.4718 - val_loss: 1.8015 - val_accuracy: 0.4386\n",
            "Epoch 95/100\n",
            "325/325 [==============================] - 51s 157ms/step - loss: 0.0064 - accuracy: 0.4718 - val_loss: 1.8290 - val_accuracy: 0.4391\n",
            "Epoch 96/100\n",
            "325/325 [==============================] - 51s 158ms/step - loss: 0.0078 - accuracy: 0.4716 - val_loss: 1.8015 - val_accuracy: 0.4379\n",
            "Epoch 97/100\n",
            "325/325 [==============================] - 51s 158ms/step - loss: 0.0048 - accuracy: 0.4719 - val_loss: 1.8407 - val_accuracy: 0.4385\n",
            "Epoch 98/100\n",
            "325/325 [==============================] - 51s 158ms/step - loss: 0.0071 - accuracy: 0.4716 - val_loss: 1.8266 - val_accuracy: 0.4390\n",
            "Epoch 99/100\n",
            "325/325 [==============================] - 51s 158ms/step - loss: 0.0079 - accuracy: 0.4715 - val_loss: 1.7924 - val_accuracy: 0.4387\n",
            "Epoch 100/100\n",
            "325/325 [==============================] - 51s 157ms/step - loss: 0.0063 - accuracy: 0.4718 - val_loss: 1.8424 - val_accuracy: 0.4376\n"
          ]
        },
        {
          "output_type": "execute_result",
          "data": {
            "text/plain": [
              "<tf_keras.src.callbacks.History at 0x7ec7bce925f0>"
            ]
          },
          "metadata": {},
          "execution_count": 36
        }
      ],
      "source": [
        "#Train model on the data\n",
        "optimizer = tf.keras.optimizers.Adam(learning_rate=5e-5)\n",
        "\n",
        "model.compile(optimizer=optimizer, metrics=['accuracy'])\n",
        "\n",
        "batch_size = 2\n",
        "\n",
        "model.fit(train_dataset.shuffle(1000).batch(batch_size), epochs=100, validation_data=val_dataset.batch(batch_size))"
      ]
    },
    {
      "cell_type": "code",
      "execution_count": 37,
      "metadata": {
        "id": "emlNVlcSSUed",
        "colab": {
          "base_uri": "https://localhost:8080/"
        },
        "outputId": "b98c0293-a28a-4523-fd97-61b68bac1b76"
      },
      "outputs": [
        {
          "output_type": "stream",
          "name": "stdout",
          "text": [
            "82/82 [==============================] - 6s 67ms/step - loss: 1.8424 - accuracy: 0.4376\n",
            "Validation loss: [1.8424181938171387, 0.4376208782196045]\n"
          ]
        }
      ],
      "source": [
        "# Evaluate the model on the validation dataset\n",
        "val_loss = model.evaluate(val_dataset.batch(batch_size))\n",
        "print(f\"Validation loss: {val_loss}\")"
      ]
    },
    {
      "cell_type": "code",
      "execution_count": 38,
      "metadata": {
        "id": "g_Fi6eptbXkp"
      },
      "outputs": [],
      "source": [
        "# Test data\n",
        "test_df['input_text'] = test_df[['Job Title', 'Preferred Qualifications', 'Hiring Company', 'Applicant Name', 'Past Working Experience', 'Current Working Experience', 'Skillsets', 'Qualifications']].agg(' '.join, axis=1)\n",
        "test_df['target_text'] = test_df['Cover Letter']\n"
      ]
    },
    {
      "cell_type": "code",
      "execution_count": 39,
      "metadata": {
        "id": "897mfDnZbyjR"
      },
      "outputs": [],
      "source": [
        "test_texts = test_df['input_text'].tolist()\n",
        "test_labels = test_df['target_text'].tolist()\n"
      ]
    },
    {
      "cell_type": "code",
      "execution_count": 40,
      "metadata": {
        "id": "ucGSD-FxcDU8"
      },
      "outputs": [],
      "source": [
        "# Tokenize test data\n",
        "test_encodings = tokenizer(test_texts, truncation=True, padding=True, max_length=512)\n",
        "test_labels_encoded = tokenizer(test_labels, truncation=True, padding=True, max_length=512).input_ids"
      ]
    },
    {
      "cell_type": "code",
      "execution_count": 41,
      "metadata": {
        "id": "2afkeasPcFJP"
      },
      "outputs": [],
      "source": [
        "test_dataset = tf.data.Dataset.from_tensor_slices(({\n",
        "    \"input_ids\": test_encodings['input_ids'],\n",
        "    \"attention_mask\": test_encodings['attention_mask'],\n",
        "    \"labels\": test_labels_encoded\n",
        "}))"
      ]
    },
    {
      "cell_type": "code",
      "source": [
        "pip install nltk rouge\n"
      ],
      "metadata": {
        "colab": {
          "base_uri": "https://localhost:8080/"
        },
        "id": "wN7YExhcJ1WV",
        "outputId": "05984434-26df-42b8-8e4f-c768c109ac92"
      },
      "execution_count": 43,
      "outputs": [
        {
          "output_type": "stream",
          "name": "stdout",
          "text": [
            "Requirement already satisfied: nltk in /usr/local/lib/python3.10/dist-packages (3.8.1)\n",
            "Requirement already satisfied: rouge in /usr/local/lib/python3.10/dist-packages (1.0.1)\n",
            "Requirement already satisfied: click in /usr/local/lib/python3.10/dist-packages (from nltk) (8.1.7)\n",
            "Requirement already satisfied: joblib in /usr/local/lib/python3.10/dist-packages (from nltk) (1.4.0)\n",
            "Requirement already satisfied: regex>=2021.8.3 in /usr/local/lib/python3.10/dist-packages (from nltk) (2023.12.25)\n",
            "Requirement already satisfied: tqdm in /usr/local/lib/python3.10/dist-packages (from nltk) (4.66.2)\n",
            "Requirement already satisfied: six in /usr/local/lib/python3.10/dist-packages (from rouge) (1.16.0)\n"
          ]
        }
      ]
    },
    {
      "cell_type": "code",
      "source": [
        "from nltk.translate.bleu_score import sentence_bleu\n",
        "from rouge import Rouge\n",
        "import numpy as np\n"
      ],
      "metadata": {
        "id": "8FWYPLfiJ6xE"
      },
      "execution_count": 44,
      "outputs": []
    },
    {
      "cell_type": "code",
      "source": [
        "def calculate_bleu_score(references, candidates):\n",
        "    bleu_scores = [sentence_bleu([ref.split()], cand.split()) for ref, cand in zip(references, candidates)]\n",
        "    return np.mean(bleu_scores)\n",
        "\n",
        "def calculate_rouge_score(references, candidates):\n",
        "    rouge = Rouge()\n",
        "    scores = rouge.get_scores(candidates, references, avg=True)\n",
        "    return scores\n"
      ],
      "metadata": {
        "id": "KisooyV2J-M3"
      },
      "execution_count": 45,
      "outputs": []
    },
    {
      "cell_type": "code",
      "source": [
        "def evaluate_model(model, tokenizer, dataset, max_length=40):\n",
        "    references = []\n",
        "    candidates = []\n",
        "    for batch in dataset:\n",
        "        input_ids = batch['input_ids']  # Key for input IDs\n",
        "        labels = batch['labels']  # Key for labels\n",
        "\n",
        "        # Generate predictions\n",
        "        outputs = model.generate(input_ids, max_length=max_length, num_beams=5)\n",
        "\n",
        "        # Decode text\n",
        "        decoded_preds = [tokenizer.decode(g, skip_special_tokens=True, clean_up_tokenization_spaces=False) for g in outputs]\n",
        "        decoded_labels = [tokenizer.decode(l, skip_special_tokens=True, clean_up_tokenization_spaces=False) for l in labels.numpy()]\n",
        "\n",
        "        references.extend(decoded_labels)\n",
        "        candidates.extend(decoded_preds)\n",
        "\n",
        "    bleu_score = calculate_bleu_score(references, candidates)\n",
        "    rouge_score = calculate_rouge_score(references, candidates)\n",
        "    return {\"bleu\": bleu_score, \"rouge\": rouge_score}\n"
      ],
      "metadata": {
        "id": "LA96hb6dKBVT"
      },
      "execution_count": 51,
      "outputs": []
    },
    {
      "cell_type": "code",
      "source": [
        "# Example of evaluating after training\n",
        "eval_scores = evaluate_model(model, tokenizer, test_dataset.batch(32))\n",
        "print(f\"Evaluation scores: {eval_scores}\")"
      ],
      "metadata": {
        "colab": {
          "base_uri": "https://localhost:8080/"
        },
        "id": "TwTG4HThKFGe",
        "outputId": "96a6c43d-51d3-4bea-8537-14dd74e3a24d"
      },
      "execution_count": 52,
      "outputs": [
        {
          "output_type": "stream",
          "name": "stderr",
          "text": [
            "/usr/local/lib/python3.10/dist-packages/nltk/translate/bleu_score.py:552: UserWarning: \n",
            "The hypothesis contains 0 counts of 3-gram overlaps.\n",
            "Therefore the BLEU score evaluates to 0, independently of\n",
            "how many N-gram overlaps of lower order it contains.\n",
            "Consider using lower n-gram order or use SmoothingFunction()\n",
            "  warnings.warn(_msg)\n",
            "/usr/local/lib/python3.10/dist-packages/nltk/translate/bleu_score.py:552: UserWarning: \n",
            "The hypothesis contains 0 counts of 4-gram overlaps.\n",
            "Therefore the BLEU score evaluates to 0, independently of\n",
            "how many N-gram overlaps of lower order it contains.\n",
            "Consider using lower n-gram order or use SmoothingFunction()\n",
            "  warnings.warn(_msg)\n"
          ]
        },
        {
          "output_type": "stream",
          "name": "stdout",
          "text": [
            "Evaluation scores: {'bleu': 0.13723502622214614, 'rouge': {'rouge-1': {'r': 0.36013365740753445, 'p': 0.9073787876793122, 'f': 0.4946354892943846}, 'rouge-2': {'r': 0.2685385171386128, 'p': 0.8207615129904241, 'f': 0.383814783249757}, 'rouge-l': {'r': 0.3563118491701165, 'p': 0.8980918093808405, 'f': 0.48951644880674217}}}\n"
          ]
        }
      ]
    },
    {
      "cell_type": "code",
      "execution_count": 42,
      "metadata": {
        "colab": {
          "base_uri": "https://localhost:8080/"
        },
        "id": "BlttgWBYcGu1",
        "outputId": "48705565-4b07-4e17-ac93-22e7c941f159"
      },
      "outputs": [
        {
          "output_type": "stream",
          "name": "stdout",
          "text": [
            "44/44 [==============================] - 20s 141ms/step - loss: 2.6680 - accuracy: 0.3944\n",
            "Evaluation results: [2.6679768562316895, 0.3943927586078644]\n"
          ]
        }
      ],
      "source": [
        "# Evaluate the model\n",
        "evaluation_results = model.evaluate(test_dataset.batch(8))\n",
        "print(\"Evaluation results:\", evaluation_results)\n"
      ]
    },
    {
      "cell_type": "code",
      "execution_count": 25,
      "metadata": {
        "colab": {
          "base_uri": "https://localhost:8080/"
        },
        "id": "_Jz_DXwVhVFB",
        "outputId": "cd804d9d-9d8e-4881-9f3b-68b74130a6c2"
      },
      "outputs": [
        {
          "output_type": "stream",
          "name": "stdout",
          "text": [
            "Enter the Job Title: Software Engineer\n",
            "Enter Preferred Qualifications: 2 years of Java software development \n",
            "Enter the Hiring Company: Facebook\n",
            "Enter the Applicant's Name: Arul Bavan\n",
            "Enter Past Working Experience: 1 year of programming experience\n",
            "Enter Current Working Experience: 1 year of software development experience in java\n",
            "Enter Skillsets: Java, Python\n",
            "Enter Qualifications: BSc (Honors) in Information Technology from SLIIT\n",
            "I am writing to express my interest in the Generate a cover letter for the following applicant. With my experience in Java development and my expertise in Python and R, I believe I would be a valuable asset to your team. In my current role as a Software Engineer at Facebook, where I have been responsible for leading a team of developers and working on a range of projects that have allowed me to hone my skills in data analysis and software development. I am able to effectively communicate complex technical concepts to non-technical stakeholders and have a proven track record of creating and using personalized cover letters to create a personalized version of the company's software application. Additionally, my past experience as an Applied Research Analyst at Twitter has provided me with valuable insights into Java and its related topics.I hold a BSc in Information Technology from which I possess qualifications for this role. My skills such as Java, Python, and experience with information technology from SLIIT make me well-equipped to handle project delivery expectations and deliver high-quality software solutions. am excited about the opportunity to contribute to the success of Facebook and look forward to discussing how my qualifications align with your needs.\n"
          ]
        }
      ],
      "source": [
        "def generate_cover_letter(model, tokenizer, max_length=512):\n",
        "\n",
        "    job_title = input(\"Enter the Job Title: \")\n",
        "    preferred_qualifications = input(\"Enter Preferred Qualifications: \")\n",
        "    hiring_company = input(\"Enter the Hiring Company: \")\n",
        "    applicant_name = input(\"Enter the Applicant's Name: \")\n",
        "    past_experience = input(\"Enter Past Working Experience: \")\n",
        "    current_experience = input(\"Enter Current Working Experience: \")\n",
        "    skillsets = input(\"Enter Skillsets: \")\n",
        "    qualifications = input(\"Enter Qualifications: \")\n",
        "\n",
        "    input_data = f\"Generate a cover letter for the following applicant. Job Title: {job_title}. The company is {hiring_company}, specializing in {preferred_qualifications}. The applicant, {applicant_name}, has past experience in {past_experience} and is currently working in {current_experience}. They possess skills such as {skillsets} and have qualifications including {qualifications}. Use this information to create a personalized cover letter.\"\n",
        "\n",
        "    inputs = tokenizer(input_data, return_tensors=\"tf\", truncation=True, padding=\"max_length\", max_length=max_length)\n",
        "\n",
        "    output_ids = model.generate(\n",
        "        input_ids=inputs['input_ids'],\n",
        "        attention_mask=inputs['attention_mask'],\n",
        "        max_length=max_length,\n",
        "        num_beams=5,\n",
        "        no_repeat_ngram_size=2,\n",
        "        early_stopping=True\n",
        "    )\n",
        "\n",
        "\n",
        "    generated_text = tokenizer.decode(output_ids[0], skip_special_tokens=True)\n",
        "\n",
        "    return generated_text\n",
        "\n",
        "generated_cover_letter = generate_cover_letter(model, tokenizer)\n",
        "print(generated_cover_letter)\n"
      ]
    },
    {
      "cell_type": "code",
      "source": [
        "def generate_cover_letter(model, tokenizer, max_length=512):\n",
        "\n",
        "    job_title = input(\"Enter the Job Title: \")\n",
        "    preferred_qualifications = input(\"Enter Preferred Qualifications: \")\n",
        "    hiring_company = input(\"Enter the Hiring Company: \")\n",
        "    applicant_name = input(\"Enter the Applicant's Name: \")\n",
        "    past_experience = input(\"Enter Past Working Experience: \")\n",
        "    current_experience = input(\"Enter Current Working Experience: \")\n",
        "    skillsets = input(\"Enter Skillsets: \")\n",
        "    qualifications = input(\"Enter Qualifications: \")\n",
        "\n",
        "    input_data = f\"Generate a cover letter for the following applicant. Job Title: {job_title}. The company is {hiring_company}, specializing in {preferred_qualifications}. The applicant, {applicant_name}, has past experience in {past_experience} and is currently working in {current_experience}. They possess skills such as {skillsets} and have qualifications including {qualifications}. Use this information to create a personalized cover letter.\"\n",
        "\n",
        "    inputs = tokenizer(input_data, return_tensors=\"tf\", truncation=True, padding=\"max_length\", max_length=max_length)\n",
        "\n",
        "    output_ids = model.generate(\n",
        "        input_ids=inputs['input_ids'],\n",
        "        attention_mask=inputs['attention_mask'],\n",
        "        max_length=max_length,\n",
        "        num_beams=5,\n",
        "        no_repeat_ngram_size=2,\n",
        "        early_stopping=True\n",
        "    )\n",
        "\n",
        "    generated_text = tokenizer.decode(output_ids[0], skip_special_tokens=True)\n",
        "\n",
        "    return generated_text\n",
        "\n",
        "generated_cover_letter = generate_cover_letter(model, tokenizer)\n",
        "print(generated_cover_letter)"
      ],
      "metadata": {
        "colab": {
          "base_uri": "https://localhost:8080/"
        },
        "id": "YuKA9a8FpSsv",
        "outputId": "3b3565fa-2d44-41f9-d49e-9c49f909dc3d"
      },
      "execution_count": 26,
      "outputs": [
        {
          "output_type": "stream",
          "name": "stdout",
          "text": [
            "Enter the Job Title: Quality Assurance Engineer\n",
            "Enter Preferred Qualifications: 4 years of QA Experience \n",
            "Enter the Hiring Company: RBC Bank\n",
            "Enter the Applicant's Name: Surya Sivakumar\n",
            "Enter Past Working Experience: 2 years of experience in manual testing at Virtusa\n",
            "Enter Current Working Experience: 2 years of automation testing experience at WSO2\n",
            "Enter Skillsets: Java, Selenium, Python, Unit Testing\n",
            "Enter Qualifications: BSc Honors in Information Technology\n",
            "I am writing to express my interest in the Generate a cover letter for the following applicant. My experience at RBC Bank has given me a deep understanding of QA Experience and its practical application. I am confident that my skills in Java, Selenium, Python, and Unit Testing will enable me to effectively analyze and interpret complex data sets. In my current role as a Quality Assurance Engineer at WSO2, I have successfully performed quality assurance processes for various types of data, including anomaly detection and NLP tasks. Additionally, my experience in deploying and maintaining critical systems in a cloud environment has provided me with the necessary skills to contribute effectively to the development of innovative solutions.I hold a BScSc Honors in Information Technology and have experience working in manual testing at Virtusa and an Agile/Scrum/Kanban environment. These qualifications, combined with my excellent communication and presentation skills, make me an ideal candidate for this position.\n"
          ]
        }
      ]
    },
    {
      "cell_type": "code",
      "source": [
        "# Save the model in Colab\n",
        "model_save_path = \"/content/bart_model2\"\n",
        "model.save_pretrained(model_save_path)\n",
        "tokenizer.save_pretrained(model_save_path)\n",
        "\n",
        "# Download the saved model to local machine\n",
        "import os\n",
        "from google.colab import files\n",
        "\n",
        "!zip -r /content/bart_model2.zip {model_save_path}\n",
        "\n",
        "files.download('/content/bart_model2.zip')\n"
      ],
      "metadata": {
        "colab": {
          "base_uri": "https://localhost:8080/",
          "height": 228
        },
        "id": "aXOnbWDtwRZB",
        "outputId": "12732648-7abc-49cd-cf5f-f1cb6fb7ac84"
      },
      "execution_count": 35,
      "outputs": [
        {
          "output_type": "stream",
          "name": "stderr",
          "text": [
            "Some non-default generation parameters are set in the model config. These should go into a GenerationConfig file (https://huggingface.co/docs/transformers/generation_strategies#save-a-custom-decoding-strategy-with-your-model) instead. This warning will be raised to an exception in v4.41.\n",
            "Non-default generation parameters: {'early_stopping': True, 'num_beams': 4, 'no_repeat_ngram_size': 3, 'forced_bos_token_id': 0, 'forced_eos_token_id': 2}\n"
          ]
        },
        {
          "output_type": "stream",
          "name": "stdout",
          "text": [
            "  adding: content/bart_model2/ (stored 0%)\n",
            "  adding: content/bart_model2/generation_config.json (deflated 47%)\n",
            "  adding: content/bart_model2/config.json (deflated 64%)\n",
            "  adding: content/bart_model2/tf_model.h5 (deflated 8%)\n",
            "  adding: content/bart_model2/vocab.json (deflated 68%)\n",
            "  adding: content/bart_model2/special_tokens_map.json (deflated 85%)\n",
            "  adding: content/bart_model2/tokenizer_config.json (deflated 76%)\n",
            "  adding: content/bart_model2/merges.txt (deflated 53%)\n"
          ]
        },
        {
          "output_type": "display_data",
          "data": {
            "text/plain": [
              "<IPython.core.display.Javascript object>"
            ],
            "application/javascript": [
              "\n",
              "    async function download(id, filename, size) {\n",
              "      if (!google.colab.kernel.accessAllowed) {\n",
              "        return;\n",
              "      }\n",
              "      const div = document.createElement('div');\n",
              "      const label = document.createElement('label');\n",
              "      label.textContent = `Downloading \"${filename}\": `;\n",
              "      div.appendChild(label);\n",
              "      const progress = document.createElement('progress');\n",
              "      progress.max = size;\n",
              "      div.appendChild(progress);\n",
              "      document.body.appendChild(div);\n",
              "\n",
              "      const buffers = [];\n",
              "      let downloaded = 0;\n",
              "\n",
              "      const channel = await google.colab.kernel.comms.open(id);\n",
              "      // Send a message to notify the kernel that we're ready.\n",
              "      channel.send({})\n",
              "\n",
              "      for await (const message of channel.messages) {\n",
              "        // Send a message to notify the kernel that we're ready.\n",
              "        channel.send({})\n",
              "        if (message.buffers) {\n",
              "          for (const buffer of message.buffers) {\n",
              "            buffers.push(buffer);\n",
              "            downloaded += buffer.byteLength;\n",
              "            progress.value = downloaded;\n",
              "          }\n",
              "        }\n",
              "      }\n",
              "      const blob = new Blob(buffers, {type: 'application/binary'});\n",
              "      const a = document.createElement('a');\n",
              "      a.href = window.URL.createObjectURL(blob);\n",
              "      a.download = filename;\n",
              "      div.appendChild(a);\n",
              "      a.click();\n",
              "      div.remove();\n",
              "    }\n",
              "  "
            ]
          },
          "metadata": {}
        },
        {
          "output_type": "display_data",
          "data": {
            "text/plain": [
              "<IPython.core.display.Javascript object>"
            ],
            "application/javascript": [
              "download(\"download_95236f31-ddd6-4778-97b0-c32d77c71300\", \"bart_model2.zip\", 516202226)"
            ]
          },
          "metadata": {}
        }
      ]
    },
    {
      "cell_type": "code",
      "source": [],
      "metadata": {
        "id": "F_OaYIDjw3Ai"
      },
      "execution_count": null,
      "outputs": []
    }
  ],
  "metadata": {
    "accelerator": "GPU",
    "colab": {
      "machine_shape": "hm",
      "provenance": [],
      "gpuType": "V100"
    },
    "kernelspec": {
      "display_name": "Python 3",
      "name": "python3"
    },
    "language_info": {
      "name": "python"
    }
  },
  "nbformat": 4,
  "nbformat_minor": 0
}